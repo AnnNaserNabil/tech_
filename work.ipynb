{
 "cells": [
  {
   "cell_type": "markdown",
   "id": "917e01ad-1a26-4305-ab93-6b775156fc73",
   "metadata": {},
   "source": [
    "The problemset has 591 rows of data and by manuall investigation i have found that row number 378 has some messy data. so i have deleted the row to start working"
   ]
  },
  {
   "cell_type": "code",
   "execution_count": 36,
   "id": "a5ed4584-ffb7-4ed4-92a1-f891cc72d7e9",
   "metadata": {},
   "outputs": [
    {
     "name": "stdout",
     "output_type": "stream",
     "text": [
      "                                             Context  Training Topic  \\\n",
      "0  Wiping out graft to fatten coffers   Will the ...             NaN   \n",
      "1  দূর্নীতির আখড়া গোপালগঞ্জ হাসপাতাল,ধরলো দুদক   ...             NaN   \n",
      "2  মুজিব কিল্লা নির্মাণে অর্থ তছরুপে জড়িতদের বিরু...             NaN   \n",
      "3  অভিযোগের বিষয়ে জানতে গেলে বোবার অভিনয়...  বিস্...             NaN   \n",
      "4  ব্রিজ নির্মাণ হলেও দেয়া হয়নি এপ্রোচ সড়ক, গোপাল...             NaN   \n",
      "\n",
      "   Predicted Topic  \n",
      "0              NaN  \n",
      "1              NaN  \n",
      "2              NaN  \n",
      "3              NaN  \n",
      "4              NaN  \n",
      "                       Topics\n",
      "0                    Politics\n",
      "1               Law and Order\n",
      "2  Governance & Policy Reform\n",
      "3                      Sports\n",
      "4         Culture & Lifestyle\n"
     ]
    }
   ],
   "source": [
    "import pandas as pd\n",
    "\n",
    "# Load the Excel file\n",
    "file_path = 'Data & Topics.xlsx'\n",
    "\n",
    "# Read the sheets into two different dataframes\n",
    "df_sheet1 = pd.read_excel(file_path, sheet_name='Training Dataset')\n",
    "df_sheet2 = pd.read_excel(file_path, sheet_name='Topics')\n",
    "\n",
    "# Display the dataframes (optional)\n",
    "print(df_sheet1.head())\n",
    "print(df_sheet2.head())\n"
   ]
  },
  {
   "cell_type": "code",
   "execution_count": 37,
   "id": "6904e9ca-ff5b-42ce-a23c-facec4c307c1",
   "metadata": {},
   "outputs": [
    {
     "name": "stdout",
     "output_type": "stream",
     "text": [
      "                                             Context  Training Topic  \\\n",
      "0  Wiping out graft to fatten coffers   Will the ...             NaN   \n",
      "1  দূর্নীতির আখড়া গোপালগঞ্জ হাসপাতাল,ধরলো দুদক   ...             NaN   \n",
      "2  মুজিব কিল্লা নির্মাণে অর্থ তছরুপে জড়িতদের বিরু...             NaN   \n",
      "3  অভিযোগের বিষয়ে জানতে গেলে বোবার অভিনয়...  বিস্...             NaN   \n",
      "4  ব্রিজ নির্মাণ হলেও দেয়া হয়নি এপ্রোচ সড়ক, গোপাল...             NaN   \n",
      "\n",
      "   Predicted Topic  \n",
      "0              NaN  \n",
      "1              NaN  \n",
      "2              NaN  \n",
      "3              NaN  \n",
      "4              NaN  \n"
     ]
    }
   ],
   "source": [
    "# Keep only the first three columns in df_sheet1\n",
    "df_sheet1 = df_sheet1.iloc[:, :3]\n",
    "\n",
    "# Display the updated dataframe\n",
    "print(df_sheet1.head())\n"
   ]
  },
  {
   "cell_type": "code",
   "execution_count": null,
   "id": "4d48ecf8-c697-4fef-8812-8d359eb0f3a0",
   "metadata": {},
   "outputs": [],
   "source": []
  },
  {
   "cell_type": "code",
   "execution_count": null,
   "id": "fd805770-f5cb-4d06-971e-af0ab884336d",
   "metadata": {},
   "outputs": [],
   "source": []
  },
  {
   "cell_type": "code",
   "execution_count": null,
   "id": "00529d6b-1630-4ce7-a674-ed6896c199d9",
   "metadata": {},
   "outputs": [],
   "source": []
  },
  {
   "cell_type": "code",
   "execution_count": null,
   "id": "ed2e13ed-f448-4e63-a7a8-e58dad4b15d1",
   "metadata": {},
   "outputs": [],
   "source": []
  },
  {
   "cell_type": "code",
   "execution_count": null,
   "id": "bf1e8b3a-d7e0-4e93-bef5-5030ad2e91f3",
   "metadata": {},
   "outputs": [],
   "source": []
  },
  {
   "cell_type": "code",
   "execution_count": null,
   "id": "d9600baf-d994-4a61-b4f7-b19e9b48d755",
   "metadata": {},
   "outputs": [],
   "source": []
  }
 ],
 "metadata": {
  "kernelspec": {
   "display_name": "Python 3 (ipykernel)",
   "language": "python",
   "name": "python3"
  },
  "language_info": {
   "codemirror_mode": {
    "name": "ipython",
    "version": 3
   },
   "file_extension": ".py",
   "mimetype": "text/x-python",
   "name": "python",
   "nbconvert_exporter": "python",
   "pygments_lexer": "ipython3",
   "version": "3.8.7"
  }
 },
 "nbformat": 4,
 "nbformat_minor": 5
}
